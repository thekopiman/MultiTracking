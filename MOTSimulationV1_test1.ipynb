{
 "cells": [
  {
   "cell_type": "code",
   "execution_count": 4,
   "metadata": {},
   "outputs": [
    {
     "name": "stdout",
     "output_type": "stream",
     "text": [
      "Sensors : 4 | Targets : 4.\n"
     ]
    }
   ],
   "source": [
    "from simulation.simulations.MOTSimulationV1 import MOTSimulationV1\n",
    "import numpy as np\n",
    "\n",
    "\n",
    "sim = MOTSimulationV1(dimension=np.array([[0, 100], [0, 100], [0, 0]]),\n",
    "                      sensor_radius=np.array([[-5, 5], [-5, 5], [0,0]]),\n",
    "                      target_radius=np.array([[-5, 5], [-5, 5], [0,0]]),)\n",
    "sim.generate_checkpoints(no_targets_checkpoints=np.random.poisson(3), no_sensors_checkpoints=np.random.poisson(5))\n",
    "\n",
    "sim.spawn_sensors()\n",
    "sim.spawn_targets()\n",
    "sim.generate_paths()\n",
    "sim.run()\n",
    "print(sim)"
   ]
  },
  {
   "cell_type": "code",
   "execution_count": 5,
   "metadata": {},
   "outputs": [
    {
     "name": "stdout",
     "output_type": "stream",
     "text": [
      "[array([66.0483352 , 48.67984193,  0.        ]), array([19.78787245, 55.85289161,  0.        ]), array([7.60703574e+01, 6.69122179e-02, 0.00000000e+00])]\n",
      "[array([7.60703574e+01, 6.69122179e-02, 0.00000000e+00]), array([71.33402098, 10.46115079,  0.        ]), array([19.78787245, 55.85289161,  0.        ])]\n",
      "[array([7.60703574e+01, 6.69122179e-02, 0.00000000e+00])]\n",
      "[array([71.33402098, 10.46115079,  0.        ]), array([7.60703574e+01, 6.69122179e-02, 0.00000000e+00])]\n",
      "[]\n",
      "[array([17.43149432, 50.67660478,  0.        ]), array([50.61972975, 18.91323788,  0.        ])]\n",
      "[array([50.61972975, 18.91323788,  0.        ]), array([20.79351218, 78.78287814,  0.        ])]\n",
      "[array([20.79351218, 78.78287814,  0.        ])]\n"
     ]
    }
   ],
   "source": [
    "for i in sim.sensors + sim.targets:\n",
    "    print(i.checkpoints)"
   ]
  },
  {
   "cell_type": "code",
   "execution_count": 6,
   "metadata": {},
   "outputs": [
    {
     "data": {
      "image/png": "[encoded data removed]",
      "text/plain": [
       "<Figure size 600x600 with 1 Axes>"
      ]
     },
     "metadata": {},
     "output_type": "display_data"
    }
   ],
   "source": [
    "import numpy as np\n",
    "import matplotlib.pyplot as plt\n",
    "import matplotlib.animation as animation\n",
    "# Create the plot\n",
    "fig, ax = plt.subplots(figsize=(6, 6))\n",
    "ax.set_xlim(-10, 110)\n",
    "ax.set_ylim(-10, 110)\n",
    "ax.set_title(\"Sensors and Targets Movement\")\n",
    "\n",
    "# Plot objects for sensors & targets\n",
    "sensor_dots, = ax.plot([], [], 'bo', markersize=6, label=\"Sensors\")  # Blue dots\n",
    "target_dots, = ax.plot([], [], 'ro', markersize=6, label=\"Targets\")  # Red dots\n",
    "\n",
    "ax.legend()\n",
    "\n",
    "def update(frame):\n",
    "    \"\"\" Update function for animation \"\"\"\n",
    "    sensor_dots.set_data(sim.sensors_timestamps[:, frame, 0], sim.sensors_timestamps[:, frame, 1])  # Update sensor positions\n",
    "    target_dots.set_data(sim.targets_timestamps[:, frame, 0], sim.targets_timestamps[:, frame, 1])  # Update target positions\n",
    "    return sensor_dots, target_dots\n",
    "\n",
    "# Create animation\n",
    "ani = animation.FuncAnimation(fig, update, frames=sim.sensors_timestamps.shape[1], interval=10, blit=True)\n",
    "\n",
    "ani.save(\"time_based_animation.gif\", writer=\"pillow\", fps=60)"
   ]
  },
  {
   "cell_type": "code",
   "execution_count": 7,
   "metadata": {},
   "outputs": [
    {
     "ename": "AttributeError",
     "evalue": "module 'itertools' has no attribute 'counter'",
     "output_type": "error",
     "traceback": [
      "\u001b[1;31m---------------------------------------------------------------------------\u001b[0m",
      "\u001b[1;31mAttributeError\u001b[0m                            Traceback (most recent call last)",
      "Cell \u001b[1;32mIn[7], line 3\u001b[0m\n\u001b[0;32m      1\u001b[0m \u001b[38;5;28;01mimport\u001b[39;00m \u001b[38;5;21;01mitertools\u001b[39;00m\n\u001b[1;32m----> 3\u001b[0m num \u001b[38;5;241m=\u001b[39m \u001b[43mitertools\u001b[49m\u001b[38;5;241;43m.\u001b[39;49m\u001b[43mcounter\u001b[49m()\n\u001b[0;32m      5\u001b[0m \u001b[38;5;28;01mfor\u001b[39;00m i \u001b[38;5;129;01min\u001b[39;00m \u001b[38;5;28mrange\u001b[39m(\u001b[38;5;241m5\u001b[39m):\n\u001b[0;32m      6\u001b[0m     \u001b[38;5;28mprint\u001b[39m(num)\n",
      "\u001b[1;31mAttributeError\u001b[0m: module 'itertools' has no attribute 'counter'"
     ]
    }
   ],
   "source": [
    "import itertools\n",
    "\n",
    "num = itertools.count()\n",
    "\n",
    "for i in range(5):\n",
    "    print(num)\n",
    "    next(num)"
   ]
  }
 ],
 "metadata": {
  "kernelspec": {
   "display_name": "pytorch",
   "language": "python",
   "name": "python3"
  },
  "language_info": {
   "codemirror_mode": {
    "name": "ipython",
    "version": 3
   },
   "file_extension": ".py",
   "mimetype": "text/x-python",
   "name": "python",
   "nbconvert_exporter": "python",
   "pygments_lexer": "ipython3",
   "version": "3.9.16"
  }
 },
 "nbformat": 4,
 "nbformat_minor": 2
}
