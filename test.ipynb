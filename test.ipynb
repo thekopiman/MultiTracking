{
 "cells": [
  {
   "cell_type": "code",
   "execution_count": 1,
   "metadata": {},
   "outputs": [],
   "source": [
    "from simulation.setup import Simulation\n",
    "from simulation.objects import *\n",
    "import numpy as np"
   ]
  },
  {
   "cell_type": "code",
   "execution_count": 2,
   "metadata": {},
   "outputs": [],
   "source": [
    "Simulation1 = Simulation()"
   ]
  },
  {
   "cell_type": "code",
   "execution_count": 3,
   "metadata": {},
   "outputs": [
    {
     "name": "stdout",
     "output_type": "stream",
     "text": [
      "--- Sensors ---\n",
      "0 : [0. 0. 0.]\n",
      "--- Targets ---\n"
     ]
    },
    {
     "data": {
      "text/plain": []
     },
     "execution_count": 3,
     "metadata": {},
     "output_type": "execute_result"
    }
   ],
   "source": [
    "s1 = Sensor()\n",
    "\n",
    "Simulation1.add_sensors(s1)\n",
    "Simulation1"
   ]
  },
  {
   "cell_type": "code",
   "execution_count": 4,
   "metadata": {},
   "outputs": [
    {
     "name": "stdout",
     "output_type": "stream",
     "text": [
      "--- Sensors ---\n",
      "0 : [1 0 0]\n",
      "--- Targets ---\n"
     ]
    },
    {
     "data": {
      "text/plain": []
     },
     "execution_count": 4,
     "metadata": {},
     "output_type": "execute_result"
    }
   ],
   "source": [
    "s1.update_location(np.array([1,0,0]))\n",
    "Simulation1"
   ]
  },
  {
   "cell_type": "code",
   "execution_count": 6,
   "metadata": {},
   "outputs": [
    {
     "name": "stdout",
     "output_type": "stream",
     "text": [
      "[4. 3. 0.]\n",
      "[5. 4. 0.]\n",
      "--- Sensors ---\n",
      "0 : [5. 4. 0.]\n",
      "--- Targets ---\n"
     ]
    },
    {
     "data": {
      "text/plain": []
     },
     "execution_count": 6,
     "metadata": {},
     "output_type": "execute_result"
    }
   ],
   "source": [
    "from simulation.movement import *\n",
    "\n",
    "velocity_1 = LinearConstantVelocity(1, np.array([1.,1.,0.]))\n",
    "\n",
    "# There are 2 ways to update the location\n",
    "# Update using Movement or via Object\n",
    "velocity_1.update_location(s1, np.sqrt(2))\n",
    "s1.update_location(s1.current_location() + velocity_1.additive_vector(np.sqrt(2)))\n",
    "\n",
    "Simulation1"
   ]
  }
 ],
 "metadata": {
  "kernelspec": {
   "display_name": "tracking",
   "language": "python",
   "name": "python3"
  },
  "language_info": {
   "codemirror_mode": {
    "name": "ipython",
    "version": 3
   },
   "file_extension": ".py",
   "mimetype": "text/x-python",
   "name": "python",
   "nbconvert_exporter": "python",
   "pygments_lexer": "ipython3",
   "version": "3.9.21"
  }
 },
 "nbformat": 4,
 "nbformat_minor": 2
}
