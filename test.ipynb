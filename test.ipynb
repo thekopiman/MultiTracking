{
 "cells": [
  {
   "cell_type": "code",
   "execution_count": 1,
   "metadata": {},
   "outputs": [],
   "source": [
    "from simulation.simulations.simplesimulation import SimpleSimulation\n",
    "from simulation.objects import *\n",
    "import numpy as np\n",
    "from simulation.movement import *"
   ]
  },
  {
   "cell_type": "code",
   "execution_count": 2,
   "metadata": {},
   "outputs": [],
   "source": [
    "Simulation1 = SimpleSimulation(interval=1)"
   ]
  },
  {
   "cell_type": "code",
   "execution_count": 3,
   "metadata": {},
   "outputs": [],
   "source": [
    "s1 = Sensor(interval=1, initial_location=np.zeros((3), dtype=np.float32))\n",
    "s2 = Sensor(interval=1, initial_location=np.array([1,1,1], dtype=np.float32))\n",
    "t1 = Target(interval=1, initial_location=np.array([2,2,2], dtype=np.float32))\n",
    "t2 = Target(interval=1, initial_location=np.array([5,5,5], dtype=np.float32))\n",
    "lst1 = [(3, LinearConstantVelocity(direction=(0,1,0), velocity=5))]\n",
    "lst2 = [(5, LinearConstantVelocity(direction=(0,1,0), velocity=5)), (3, LinearConstantVelocity(direction=(1,0,0), velocity=1))]\n",
    "lst3 = [(3, LinearConstantVelocity(direction=(0,1,0), velocity=5)), (1, LinearConstantVelocity(direction=(1,0,0), velocity=1))]\n",
    "\n",
    "s1.update_sequential_movement(lst1)\n",
    "s2.update_sequential_movement(lst2)\n",
    "t1.update_sequential_movement(lst3)\n",
    "t2.update_sequential_movement(lst1)\n",
    "\n",
    "Simulation1.add_sensors([s1,s2])\n",
    "Simulation1.add_targets([t1,t2])\n",
    "\n",
    "Simulation1.run()\n",
    "\n",
    "Simulation1.find_bearings(noise=1)\n",
    "\n",
    "Simulation1.export()"
   ]
  },
  {
   "cell_type": "code",
   "execution_count": 9,
   "metadata": {},
   "outputs": [
    {
     "data": {
      "text/plain": [
       "array([[-1.11478543, -1.07780462],\n",
       "       [-4.59747412, -0.13777898],\n",
       "       [-1.93622545,  0.02764029],\n",
       "       [-3.304212  ,  0.75082391],\n",
       "       [-1.88306332, -0.11922175],\n",
       "       [-1.2276895 , -0.45720802],\n",
       "       [-4.31100312,  0.37833855],\n",
       "       [-0.66347338, -2.1846979 ],\n",
       "       [-2.33113659, -0.70288829]])"
      ]
     },
     "execution_count": 9,
     "metadata": {},
     "output_type": "execute_result"
    }
   ],
   "source": []
  }
 ],
 "metadata": {
  "kernelspec": {
   "display_name": "tracking",
   "language": "python",
   "name": "python3"
  },
  "language_info": {
   "codemirror_mode": {
    "name": "ipython",
    "version": 3
   },
   "file_extension": ".py",
   "mimetype": "text/x-python",
   "name": "python",
   "nbconvert_exporter": "python",
   "pygments_lexer": "ipython3",
   "version": "3.9.21"
  }
 },
 "nbformat": 4,
 "nbformat_minor": 2
}
