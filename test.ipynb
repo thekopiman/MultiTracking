{
 "cells": [
  {
   "cell_type": "code",
   "execution_count": 1,
   "metadata": {},
   "outputs": [],
   "source": [
    "from simulation.simulations.simplesimulation import SimpleSimulation\n",
    "from simulation.objects import *\n",
    "import numpy as np\n",
    "from simulation.movement import *"
   ]
  },
  {
   "cell_type": "code",
   "execution_count": 2,
   "metadata": {},
   "outputs": [],
   "source": [
    "Simulation1 = SimpleSimulation(interval=1)"
   ]
  },
  {
   "cell_type": "code",
   "execution_count": 3,
   "metadata": {},
   "outputs": [
    {
     "name": "stdout",
     "output_type": "stream",
     "text": [
      "Export Completed!\n"
     ]
    }
   ],
   "source": [
    "s1 = Sensor(interval=1, initial_location=np.zeros((3), dtype=np.float32))\n",
    "s2 = Sensor(interval=1, initial_location=np.array([1,1,1], dtype=np.float32))\n",
    "t1 = Target(interval=1, initial_location=np.array([2,2,2], dtype=np.float32))\n",
    "t2 = Target(interval=1, initial_location=np.array([5,5,5], dtype=np.float32))\n",
    "lst1 = [(3, LinearConstantVelocity(direction=(0,1,0), velocity=5))]\n",
    "lst2 = [(5, LinearConstantVelocity(direction=(0,1,0), velocity=5)), (3, LinearConstantVelocity(direction=(1,0,0), velocity=1))]\n",
    "lst3 = [(3, LinearConstantVelocity(direction=(0,1,0), velocity=5)), (1, LinearConstantVelocity(direction=(1,0,0), velocity=1))]\n",
    "\n",
    "s1.update_sequential_movement(lst1)\n",
    "s2.update_sequential_movement(lst2)\n",
    "t1.update_sequential_movement(lst3)\n",
    "t2.update_sequential_movement(lst1)\n",
    "\n",
    "Simulation1.add_sensors([s1,s2])\n",
    "Simulation1.add_targets([t1,t2])\n",
    "\n",
    "Simulation1.run()\n",
    "\n",
    "Simulation1.find_bearings(noise=1)\n",
    "\n",
    "Simulation1.export()"
   ]
  },
  {
   "cell_type": "code",
   "execution_count": 7,
   "metadata": {},
   "outputs": [
    {
     "data": {
      "text/plain": [
       "[('John', 'Jenny', 1), ('Charles', 'Christy', 2), ('Mike', 'Tom', 3)]"
      ]
     },
     "execution_count": 7,
     "metadata": {},
     "output_type": "execute_result"
    }
   ],
   "source": [
    "a = (\"John\", \"Charles\", \"Mike\")\n",
    "b = (\"Jenny\", \"Christy\", \"Tom\", \"Monica\")\n",
    "c = (1,2,3,4)\n",
    "\n",
    "x = zip(a, b, c) \n",
    "list(x)"
   ]
  }
 ],
 "metadata": {
  "kernelspec": {
   "display_name": "tracking",
   "language": "python",
   "name": "python3"
  },
  "language_info": {
   "codemirror_mode": {
    "name": "ipython",
    "version": 3
   },
   "file_extension": ".py",
   "mimetype": "text/x-python",
   "name": "python",
   "nbconvert_exporter": "python",
   "pygments_lexer": "ipython3",
   "version": "3.9.21"
  }
 },
 "nbformat": 4,
 "nbformat_minor": 2
}
