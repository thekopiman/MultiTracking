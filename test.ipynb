{
 "cells": [
  {
   "cell_type": "code",
   "execution_count": 1,
   "metadata": {},
   "outputs": [],
   "source": [
    "from simulation.setup import Simulation\n",
    "from simulation.objects import *\n",
    "import numpy as np\n",
    "from simulation.movement import *"
   ]
  },
  {
   "cell_type": "code",
   "execution_count": 2,
   "metadata": {},
   "outputs": [],
   "source": [
    "Simulation1 = Simulation()"
   ]
  },
  {
   "cell_type": "code",
   "execution_count": 9,
   "metadata": {},
   "outputs": [
    {
     "data": {
      "text/plain": [
       "array([[ 0.,  0.,  0.],\n",
       "       [ 0.,  5.,  0.],\n",
       "       [ 0., 10.,  0.],\n",
       "       [ 0., 15.,  0.],\n",
       "       [ 0., 20.,  0.],\n",
       "       [ 0., 25.,  0.],\n",
       "       [ 1., 25.,  0.],\n",
       "       [ 2., 25.,  0.],\n",
       "       [ 3., 25.,  0.]])"
      ]
     },
     "execution_count": 9,
     "metadata": {},
     "output_type": "execute_result"
    }
   ],
   "source": [
    "obj1 = BaseObject(interval=1, initial_location=np.zeros((3)))\n",
    "lst2 = [(5, LinearConstantVelocity(direction=(0,1,0), velocity=5)), (3, LinearConstantVelocity(direction=(1,0,0), velocity=1))]\n",
    "\n",
    "obj1.update_sequential_movement(lst2)\n",
    "obj1.generate_timestamps()\n",
    "obj1.return_timestamp_coordinates()\n"
   ]
  },
  {
   "cell_type": "code",
   "execution_count": null,
   "metadata": {},
   "outputs": [],
   "source": []
  }
 ],
 "metadata": {
  "kernelspec": {
   "display_name": "tracking",
   "language": "python",
   "name": "python3"
  },
  "language_info": {
   "codemirror_mode": {
    "name": "ipython",
    "version": 3
   },
   "file_extension": ".py",
   "mimetype": "text/x-python",
   "name": "python",
   "nbconvert_exporter": "python",
   "pygments_lexer": "ipython3",
   "version": "3.9.21"
  }
 },
 "nbformat": 4,
 "nbformat_minor": 2
}
