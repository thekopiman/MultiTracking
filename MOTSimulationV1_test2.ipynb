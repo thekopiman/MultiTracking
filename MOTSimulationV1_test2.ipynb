{
 "cells": [
  {
   "cell_type": "code",
   "execution_count": 1,
   "metadata": {},
   "outputs": [],
   "source": [
    "from simulation.simulations.data_generator import DataGenerator, get_single_training_example\n",
    "from TransformerMOT.util.load_config_files import load_yaml_into_dotdict\n"
   ]
  },
  {
   "cell_type": "code",
   "execution_count": 2,
   "metadata": {},
   "outputs": [],
   "source": [
    "params = load_yaml_into_dotdict(\"configs/models/BOMTv1.yaml\")\n",
    "params.update(load_yaml_into_dotdict(\"configs/tasks/task1.yaml\"))\n",
    "\n",
    "data_generator = DataGenerator(params)"
   ]
  },
  {
   "cell_type": "code",
   "execution_count": 3,
   "metadata": {},
   "outputs": [],
   "source": [
    "training_nested_tensor, labels, unique_measurement_ids = data_generator.get_batch()"
   ]
  },
  {
   "cell_type": "code",
   "execution_count": 4,
   "metadata": {},
   "outputs": [],
   "source": [
    "(truncated_sensors_timestamps,\n",
    "truncated_targets_timestamps,\n",
    "truncated_sensors_velocities,\n",
    "truncated_targets_velocities,\n",
    "truncated_angles,) = data_generator.raw_data"
   ]
  },
  {
   "cell_type": "code",
   "execution_count": 5,
   "metadata": {},
   "outputs": [
    {
     "data": {
      "text/plain": [
       "(3, 100, 2)"
      ]
     },
     "execution_count": 5,
     "metadata": {},
     "output_type": "execute_result"
    }
   ],
   "source": [
    "truncated_sensors_timestamps.shape"
   ]
  },
  {
   "cell_type": "code",
   "execution_count": 6,
   "metadata": {},
   "outputs": [
    {
     "data": {
      "image/png": "[encoded data removed]",
      "text/plain": [
       "<Figure size 600x600 with 1 Axes>"
      ]
     },
     "metadata": {},
     "output_type": "display_data"
    }
   ],
   "source": [
    "import numpy as np\n",
    "import matplotlib.pyplot as plt\n",
    "import matplotlib.animation as animation\n",
    "# Create the plot\n",
    "fig, ax = plt.subplots(figsize=(6, 6))\n",
    "ax.set_xlim(-10, 110)\n",
    "ax.set_ylim(-10, 110)\n",
    "ax.set_title(\"Sensors and Targets Movement\")\n",
    "\n",
    "# Plot objects for sensors & targets\n",
    "sensor_dots, = ax.plot([], [], 'bo', markersize=6, label=\"Sensors\")  # Blue dots\n",
    "target_dots, = ax.plot([], [], 'ro', markersize=6, label=\"Targets\")  # Red dots\n",
    "\n",
    "ax.legend()\n",
    "\n",
    "def update(frame):\n",
    "    \"\"\" Update function for animation \"\"\"\n",
    "    sensor_dots.set_data(truncated_sensors_timestamps[:, frame, 0], truncated_sensors_timestamps[:, frame, 1])  # Update sensor positions\n",
    "    target_dots.set_data(truncated_targets_timestamps[:, frame, 0], truncated_targets_timestamps[:, frame, 1])  # Update target positions\n",
    "    return sensor_dots, target_dots\n",
    "\n",
    "# Create animation\n",
    "ani = animation.FuncAnimation(fig, update, frames=truncated_sensors_timestamps.shape[1], interval=10, blit=True)\n",
    "\n",
    "ani.save(\"time_based_animation.gif\", writer=\"pillow\", fps=60)"
   ]
  },
  {
   "cell_type": "code",
   "execution_count": 7,
   "metadata": {},
   "outputs": [],
   "source": [
    "def attach_time(data: np.ndarray, interval):\n",
    "    M, N, t, k = data.shape  # Extract current shape\n",
    "    new_row = np.arange(t) * interval  # Shape (t,)\n",
    "\n",
    "    # Reshape to (M, N, t, 1) for broadcasting\n",
    "    new_row = new_row.reshape(1, 1, t, 1)\n",
    "\n",
    "    # Repeat across M and N to match the shape\n",
    "    new_row = np.tile(new_row, (M, N, 1, 1))\n",
    "\n",
    "    # Concatenate along the last axis (k)\n",
    "    return np.concatenate([data, new_row], axis=-1)"
   ]
  },
  {
   "cell_type": "code",
   "execution_count": 8,
   "metadata": {},
   "outputs": [
    {
     "data": {
      "text/plain": [
       "[tensor([[ 26.5843,  21.4962,   2.5171,  15.7867],\n",
       "         [ 25.1368,  11.9270,  -2.1907, -12.9262],\n",
       "         [ 46.1254,  57.5035,  11.1306, -12.5913],\n",
       "         [ 69.0855,  31.5302,   0.0000,   0.0000]], device='cuda:0'),\n",
       " tensor([[ 30.1082,  43.5975,   2.5171,  15.7867],\n",
       "         [ 27.0929,  24.6862,   4.0968,  25.6942],\n",
       "         [ 61.7082,  39.8757,  11.1306, -12.5913],\n",
       "         [ 69.0855,  31.5302,   0.0000,   0.0000]], device='cuda:0'),\n",
       " tensor([[33.3804, 64.1202,  2.5171, 15.7867],\n",
       "         [32.4187, 58.0886,  4.0968, 25.6942],\n",
       "         [69.0855, 31.5302,  0.0000,  0.0000],\n",
       "         [69.0855, 31.5302,  0.0000,  0.0000]], device='cuda:0'),\n",
       " tensor([[36.6526, 84.6429,  2.5171, 15.7867],\n",
       "         [38.0703, 93.5344,  0.0000,  0.0000],\n",
       "         [69.0855, 31.5302,  0.0000,  0.0000],\n",
       "         [69.0855, 31.5302,  0.0000,  0.0000]], device='cuda:0'),\n",
       " tensor([[56.7794, 92.6356, 20.7879, -0.9987],\n",
       "         [38.0703, 93.5344,  0.0000,  0.0000],\n",
       "         [69.0855, 31.5302,  0.0000,  0.0000],\n",
       "         [69.0855, 31.5302,  0.0000,  0.0000]], device='cuda:0')]"
      ]
     },
     "execution_count": 8,
     "metadata": {},
     "output_type": "execute_result"
    }
   ],
   "source": [
    "labels"
   ]
  }
 ],
 "metadata": {
  "kernelspec": {
   "display_name": "pytorch",
   "language": "python",
   "name": "python3"
  },
  "language_info": {
   "codemirror_mode": {
    "name": "ipython",
    "version": 3
   },
   "file_extension": ".py",
   "mimetype": "text/x-python",
   "name": "python",
   "nbconvert_exporter": "python",
   "pygments_lexer": "ipython3",
   "version": "3.9.16"
  }
 },
 "nbformat": 4,
 "nbformat_minor": 2
}
