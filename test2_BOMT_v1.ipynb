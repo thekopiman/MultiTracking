{
 "cells": [
  {
   "cell_type": "code",
   "execution_count": 1,
   "metadata": {},
   "outputs": [],
   "source": [
    "import os\n",
    "import time\n",
    "import datetime\n",
    "import re\n",
    "import shutil\n",
    "from collections import deque\n",
    "import argparse\n",
    "\n",
    "import numpy as np\n",
    "import torch\n",
    "from torch.optim import AdamW\n",
    "from torch.optim.lr_scheduler import ReduceLROnPlateau\n",
    "import matplotlib.pyplot as plt\n",
    "from matplotlib.gridspec import GridSpec\n",
    "\n",
    "from simulation.simulations.data_generator import DataGenerator\n",
    "from TransformerMOT.util.misc import save_checkpoint, update_logs\n",
    "from TransformerMOT.util.load_config_files import load_yaml_into_dotdict\n",
    "from TransformerMOT.util.plotting import output_truth_plot, compute_avg_certainty, get_constrastive_ax, get_false_ax, \\\n",
    "    get_total_loss_ax, get_state_uncertainties_ax\n",
    "from TransformerMOT.util.logger import Logger\n",
    "from TransformerMOT.models.BOMTv1 import BOMT\n",
    "from simulation.simulations.data_generator import DataGenerator, get_single_training_example\n"
   ]
  },
  {
   "cell_type": "code",
   "execution_count": 2,
   "metadata": {},
   "outputs": [
    {
     "name": "stdout",
     "output_type": "stream",
     "text": [
      "Using seed: 2792582266\n"
     ]
    }
   ],
   "source": [
    "task_params = r\"C:\\Users\\chiny\\OneDrive - Nanyang Technological University\\Y3S2 (Internship)\\MultiTracking\\configs\\tasks\\task1.yaml\"\n",
    "model_params = r\"C:\\Users\\chiny\\OneDrive - Nanyang Technological University\\Y3S2 (Internship)\\MultiTracking\\configs\\models\\BOMTv1.yaml\"\n",
    "\n",
    "params = load_yaml_into_dotdict(task_params)\n",
    "params.update(load_yaml_into_dotdict(model_params))\n",
    "\n",
    "if params.general.pytorch_and_numpy_seed is None:\n",
    "    random_data = os.urandom(4)\n",
    "    params.general.pytorch_and_numpy_seed = int.from_bytes(random_data, byteorder=\"big\")\n",
    "print(f'Using seed: {params.general.pytorch_and_numpy_seed}')\n",
    "\n",
    "if params.training.device == 'auto':\n",
    "    params.training.device = 'cuda' if torch.cuda.is_available() else 'cpu'"
   ]
  },
  {
   "cell_type": "code",
   "execution_count": 3,
   "metadata": {},
   "outputs": [
    {
     "data": {
      "text/plain": [
       "torch.Size([2, 159, 4])"
      ]
     },
     "execution_count": 3,
     "metadata": {},
     "output_type": "execute_result"
    }
   ],
   "source": [
    "data_generator = DataGenerator(params=params)\n",
    "training_nested_tensor, labels, unique_measurement_ids = data_generator.get_batch()\n",
    "training_nested_tensor.tensors.shape"
   ]
  },
  {
   "cell_type": "code",
   "execution_count": 4,
   "metadata": {},
   "outputs": [],
   "source": [
    "model1 = BOMT(params).to(\"cuda\")\n",
    "res = model1(training_nested_tensor.to(\"cuda\"))"
   ]
  },
  {
   "cell_type": "code",
   "execution_count": 5,
   "metadata": {},
   "outputs": [
    {
     "data": {
      "text/plain": [
       "(<TransformerMOT.util.misc.Prediction at 0x1662d2990d0>,\n",
       " [<TransformerMOT.util.misc.Prediction at 0x1662d26b490>,\n",
       "  <TransformerMOT.util.misc.Prediction at 0x1662d26b9d0>,\n",
       "  <TransformerMOT.util.misc.Prediction at 0x1662d0d79d0>,\n",
       "  <TransformerMOT.util.misc.Prediction at 0x1662d0d7580>,\n",
       "  <TransformerMOT.util.misc.Prediction at 0x1662d0b6e20>],\n",
       " <TransformerMOT.util.misc.Prediction at 0x1662d26bfd0>,\n",
       " {'contrastive_classifications': tensor([[[-1.0000e+08, -4.8390e+00, -4.8603e+00,  ..., -1.0000e+08,\n",
       "            -1.0000e+08, -1.0000e+08],\n",
       "           [-4.8406e+00, -1.0000e+08, -4.8707e+00,  ..., -1.0000e+08,\n",
       "            -1.0000e+08, -1.0000e+08],\n",
       "           [-4.8720e+00, -4.8808e+00, -1.0000e+08,  ..., -1.0000e+08,\n",
       "            -1.0000e+08, -1.0000e+08],\n",
       "           ...,\n",
       "           [-5.0689e+00, -5.0689e+00, -5.0689e+00,  ..., -5.0689e+00,\n",
       "            -5.0689e+00, -5.0689e+00],\n",
       "           [-5.0689e+00, -5.0689e+00, -5.0689e+00,  ..., -5.0689e+00,\n",
       "            -5.0689e+00, -5.0689e+00],\n",
       "           [-5.0689e+00, -5.0689e+00, -5.0689e+00,  ..., -5.0689e+00,\n",
       "            -5.0689e+00, -5.0689e+00]],\n",
       "  \n",
       "          [[-1.0000e+08, -5.1135e+00, -5.0248e+00,  ..., -5.0738e+00,\n",
       "            -5.0766e+00, -5.0569e+00],\n",
       "           [-5.1139e+00, -1.0000e+08, -5.0690e+00,  ..., -5.0762e+00,\n",
       "            -5.0678e+00, -5.0327e+00],\n",
       "           [-5.0409e+00, -5.0847e+00, -1.0000e+08,  ..., -5.0784e+00,\n",
       "            -5.0483e+00, -5.0863e+00],\n",
       "           ...,\n",
       "           [-5.0713e+00, -5.0734e+00, -5.0599e+00,  ..., -1.0000e+08,\n",
       "            -5.0702e+00, -5.0801e+00],\n",
       "           [-5.0808e+00, -5.0716e+00, -5.0364e+00,  ..., -5.0768e+00,\n",
       "            -1.0000e+08, -5.0357e+00],\n",
       "           [-5.0679e+00, -5.0433e+00, -5.0812e+00,  ..., -5.0936e+00,\n",
       "            -5.0425e+00, -1.0000e+08]]], device='cuda:0',\n",
       "         grad_fn=<LogSoftmaxBackward0>)},\n",
       " {'intermediate_attention': []})"
      ]
     },
     "execution_count": 5,
     "metadata": {},
     "output_type": "execute_result"
    }
   ],
   "source": [
    "res"
   ]
  }
 ],
 "metadata": {
  "kernelspec": {
   "display_name": "pytorch",
   "language": "python",
   "name": "python3"
  },
  "language_info": {
   "codemirror_mode": {
    "name": "ipython",
    "version": 3
   },
   "file_extension": ".py",
   "mimetype": "text/x-python",
   "name": "python",
   "nbconvert_exporter": "python",
   "pygments_lexer": "ipython3",
   "version": "3.9.16"
  }
 },
 "nbformat": 4,
 "nbformat_minor": 2
}
