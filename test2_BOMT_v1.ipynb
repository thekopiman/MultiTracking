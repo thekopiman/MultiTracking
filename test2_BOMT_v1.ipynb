{
 "cells": [
  {
   "cell_type": "code",
   "execution_count": 1,
   "metadata": {},
   "outputs": [],
   "source": [
    "import os\n",
    "import time\n",
    "import datetime\n",
    "import re\n",
    "import shutil\n",
    "from collections import deque\n",
    "import argparse\n",
    "\n",
    "import numpy as np\n",
    "import torch\n",
    "from torch.optim import AdamW\n",
    "from torch.optim.lr_scheduler import ReduceLROnPlateau\n",
    "import matplotlib.pyplot as plt\n",
    "from matplotlib.gridspec import GridSpec\n",
    "\n",
    "from simulation.simulations.data_generator import DataGenerator\n",
    "from TransformerMOT.util.misc import save_checkpoint, update_logs\n",
    "from TransformerMOT.util.load_config_files import load_yaml_into_dotdict\n",
    "from TransformerMOT.util.plotting import output_truth_plot, compute_avg_certainty, get_constrastive_ax, get_false_ax, \\\n",
    "    get_total_loss_ax, get_state_uncertainties_ax\n",
    "from TransformerMOT.util.logger import Logger\n",
    "from TransformerMOT.models.BOMTv1 import BOMT\n",
    "from simulation.simulations.data_generator import DataGenerator, get_single_training_example\n"
   ]
  },
  {
   "cell_type": "code",
   "execution_count": 2,
   "metadata": {},
   "outputs": [
    {
     "name": "stdout",
     "output_type": "stream",
     "text": [
      "Using seed: 3815481323\n"
     ]
    }
   ],
   "source": [
    "task_params = r\"C:\\Users\\chiny\\OneDrive - Nanyang Technological University\\Y3S2 (Internship)\\MultiTracking\\configs\\tasks\\task2.yaml\"\n",
    "model_params = r\"C:\\Users\\chiny\\OneDrive - Nanyang Technological University\\Y3S2 (Internship)\\MultiTracking\\configs\\models\\BOMTv1.yaml\"\n",
    "\n",
    "params = load_yaml_into_dotdict(task_params)\n",
    "params.update(load_yaml_into_dotdict(model_params))\n",
    "\n",
    "if params.general.pytorch_and_numpy_seed is None:\n",
    "    random_data = os.urandom(4)\n",
    "    params.general.pytorch_and_numpy_seed = int.from_bytes(random_data, byteorder=\"big\")\n",
    "print(f'Using seed: {params.general.pytorch_and_numpy_seed}')\n",
    "\n",
    "if params.training.device == 'auto':\n",
    "    params.training.device = 'cuda' if torch.cuda.is_available() else 'cpu'"
   ]
  },
  {
   "cell_type": "code",
   "execution_count": 3,
   "metadata": {},
   "outputs": [],
   "source": [
    "from TransformerMOT.util.misc import NestedTensor\n",
    "\n",
    "data_generator = DataGenerator(params=params)\n",
    "training_nested_tensor, labels, unique_measurement_ids, target_coordinates = data_generator.get_batch()\n",
    "\n",
    "zeros_tensors = torch.zeros_like(training_nested_tensor.tensors)\n",
    "test_nested_tensor = NestedTensor(zeros_tensors, training_nested_tensor.mask).to(\"cuda\")\n"
   ]
  },
  {
   "cell_type": "code",
   "execution_count": 4,
   "metadata": {},
   "outputs": [
    {
     "name": "stdout",
     "output_type": "stream",
     "text": [
      "torch.Size([5, 513, 4])\n",
      "torch.Size([5, 513, 2])\n"
     ]
    }
   ],
   "source": [
    "print(training_nested_tensor.tensors.shape)\n",
    "print(target_coordinates.shape)"
   ]
  },
  {
   "cell_type": "code",
   "execution_count": 12,
   "metadata": {},
   "outputs": [],
   "source": [
    "model1 = BOMT(params).to(\"cuda\")\n",
    "checkpoint = torch.load(r\"results\\train2_2phases_1\\checkpoints\\checkpoint_gradient_step_1615.pth\",map_location=\"cuda\")\n",
    "model1.load_state_dict(checkpoint[\"model_state_dict\"])\n",
    "res = model1.forward_phase1(training_nested_tensor.to(\"cuda\"))"
   ]
  },
  {
   "cell_type": "code",
   "execution_count": 13,
   "metadata": {},
   "outputs": [
    {
     "data": {
      "text/plain": [
       "tensor([[37.9610, 36.8460],\n",
       "        [38.1306, 36.4190],\n",
       "        [38.3173, 36.4238],\n",
       "        ...,\n",
       "        [-0.2672, -0.7491],\n",
       "        [ 0.4266,  0.7768],\n",
       "        [ 0.9106,  1.1746]], device='cuda:0', grad_fn=<SliceBackward0>)"
      ]
     },
     "execution_count": 13,
     "metadata": {},
     "output_type": "execute_result"
    }
   ],
   "source": [
    "res[0,:,:]"
   ]
  },
  {
   "cell_type": "code",
   "execution_count": 10,
   "metadata": {},
   "outputs": [
    {
     "data": {
      "text/plain": [
       "tensor([[30.7874, 63.7404],\n",
       "        [47.4985, 16.8110],\n",
       "        [32.4590, 65.1297],\n",
       "        ...,\n",
       "        [ 0.0000,  0.0000],\n",
       "        [ 0.0000,  0.0000],\n",
       "        [ 0.0000,  0.0000]], device='cuda:0')"
      ]
     },
     "execution_count": 10,
     "metadata": {},
     "output_type": "execute_result"
    }
   ],
   "source": [
    "target_coordinates[0,:,:]"
   ]
  },
  {
   "cell_type": "code",
   "execution_count": 6,
   "metadata": {},
   "outputs": [],
   "source": [
    "model1 = BOMT(params).to(\"cuda\")\n",
    "checkpoint = torch.load(r\"results\\train2_new\\checkpoints\\checkpoint_gradient_step_2005.pth\",map_location=\"cuda\")\n",
    "model1.load_state_dict(checkpoint[\"model_state_dict\"])\n",
    "res = model1(training_nested_tensor.to(\"cuda\"))\n",
    "res_1 = model1(test_nested_tensor.to(\"cuda\"))"
   ]
  },
  {
   "cell_type": "code",
   "execution_count": 7,
   "metadata": {},
   "outputs": [
    {
     "data": {
      "text/plain": [
       "tensor([[[49.4108, 50.8714],\n",
       "         [49.9599, 51.4210],\n",
       "         [49.7491, 51.1946],\n",
       "         [49.8876, 51.3311],\n",
       "         [50.0013, 51.4702],\n",
       "         [49.6534, 51.1106],\n",
       "         [49.8619, 51.3162],\n",
       "         [49.5199, 50.9331],\n",
       "         [49.2935, 50.7135],\n",
       "         [50.1319, 51.5960],\n",
       "         [49.4155, 50.8675],\n",
       "         [49.7803, 51.2075],\n",
       "         [49.8832, 51.3492],\n",
       "         [50.5219, 52.0068],\n",
       "         [49.9429, 51.4053],\n",
       "         [50.2242, 51.6975]],\n",
       "\n",
       "        [[49.1723, 50.6165],\n",
       "         [50.1208, 51.5944],\n",
       "         [49.8042, 51.2548],\n",
       "         [49.3624, 50.7905],\n",
       "         [49.8500, 51.2913],\n",
       "         [49.4856, 50.9412],\n",
       "         [50.6588, 52.1333],\n",
       "         [50.1576, 51.6006],\n",
       "         [49.8645, 51.3294],\n",
       "         [48.8064, 50.2233],\n",
       "         [49.7372, 51.1929],\n",
       "         [50.0376, 51.5131],\n",
       "         [49.7521, 51.2047],\n",
       "         [49.6538, 51.0704],\n",
       "         [49.9513, 51.4027],\n",
       "         [49.0465, 50.4809]],\n",
       "\n",
       "        [[49.0739, 50.4968],\n",
       "         [49.3136, 50.7397],\n",
       "         [49.4362, 50.8813],\n",
       "         [49.9538, 51.4348],\n",
       "         [49.4821, 50.9241],\n",
       "         [49.3981, 50.8473],\n",
       "         [49.5725, 51.0374],\n",
       "         [49.7589, 51.2209],\n",
       "         [49.8060, 51.2317],\n",
       "         [49.7973, 51.2370],\n",
       "         [49.8623, 51.3394],\n",
       "         [49.8148, 51.2525],\n",
       "         [49.2919, 50.7437],\n",
       "         [49.5520, 51.0017],\n",
       "         [49.5030, 50.9576],\n",
       "         [50.6743, 52.1561]],\n",
       "\n",
       "        [[50.0171, 51.5017],\n",
       "         [49.8158, 51.2837],\n",
       "         [50.2982, 51.7646],\n",
       "         [50.4444, 51.9133],\n",
       "         [50.6631, 52.1460],\n",
       "         [50.1215, 51.5867],\n",
       "         [49.4176, 50.8411],\n",
       "         [49.3712, 50.7877],\n",
       "         [50.0948, 51.5555],\n",
       "         [49.6736, 51.1165],\n",
       "         [49.1101, 50.5439],\n",
       "         [49.5857, 51.0326],\n",
       "         [49.8346, 51.2920],\n",
       "         [49.5074, 50.9479],\n",
       "         [49.5509, 50.9889],\n",
       "         [49.5641, 51.0044]],\n",
       "\n",
       "        [[49.5178, 50.9650],\n",
       "         [49.3743, 50.8120],\n",
       "         [49.7298, 51.1706],\n",
       "         [50.4934, 51.9808],\n",
       "         [49.3461, 50.7801],\n",
       "         [49.7934, 51.2346],\n",
       "         [49.6538, 51.0898],\n",
       "         [49.4644, 50.9030],\n",
       "         [50.3672, 51.8435],\n",
       "         [49.7382, 51.1938],\n",
       "         [49.8253, 51.2722],\n",
       "         [49.6723, 51.1155],\n",
       "         [49.4029, 50.8429],\n",
       "         [49.3383, 50.7744],\n",
       "         [49.6938, 51.1654],\n",
       "         [50.0199, 51.4811]]], device='cuda:0', grad_fn=<SliceBackward0>)"
      ]
     },
     "execution_count": 7,
     "metadata": {},
     "output_type": "execute_result"
    }
   ],
   "source": [
    "res[0].positions"
   ]
  },
  {
   "cell_type": "markdown",
   "metadata": {},
   "source": []
  },
  {
   "cell_type": "code",
   "execution_count": 8,
   "metadata": {},
   "outputs": [
    {
     "data": {
      "text/plain": [
       "Parameter containing:\n",
       "tensor([[-0.2513],\n",
       "        [-0.1306],\n",
       "        [ 0.0383],\n",
       "        [ 0.2029],\n",
       "        [ 0.0343],\n",
       "        [ 0.0881],\n",
       "        [-0.1261],\n",
       "        [-0.1580],\n",
       "        [-0.2722],\n",
       "        [ 0.0630],\n",
       "        [-0.1347],\n",
       "        [ 0.1349],\n",
       "        [ 0.0363],\n",
       "        [-0.1939],\n",
       "        [-0.0149],\n",
       "        [-0.0254],\n",
       "        [-0.0559],\n",
       "        [-0.2344],\n",
       "        [ 0.0210],\n",
       "        [ 0.2574],\n",
       "        [ 0.2565],\n",
       "        [-0.2365],\n",
       "        [-0.1967],\n",
       "        [-0.1749],\n",
       "        [ 0.2456],\n",
       "        [-0.1519],\n",
       "        [-0.0932],\n",
       "        [ 0.2648],\n",
       "        [-0.2740],\n",
       "        [-0.1737],\n",
       "        [ 0.2630],\n",
       "        [ 0.2208],\n",
       "        [-0.0836],\n",
       "        [ 0.0826],\n",
       "        [-0.0648],\n",
       "        [-0.2234],\n",
       "        [-0.2156],\n",
       "        [ 0.2931],\n",
       "        [-0.1939],\n",
       "        [-0.2458],\n",
       "        [-0.2658],\n",
       "        [ 0.2779],\n",
       "        [-0.2080],\n",
       "        [-0.0807],\n",
       "        [-0.0223],\n",
       "        [ 0.1780],\n",
       "        [ 0.2675],\n",
       "        [-0.2822],\n",
       "        [ 0.0521],\n",
       "        [ 0.2838],\n",
       "        [-0.3008],\n",
       "        [ 0.1056],\n",
       "        [-0.1582],\n",
       "        [-0.1480],\n",
       "        [-0.1368],\n",
       "        [ 0.2329],\n",
       "        [ 0.0506],\n",
       "        [-0.1937],\n",
       "        [-0.2780],\n",
       "        [ 0.2493],\n",
       "        [ 0.1582],\n",
       "        [-0.0266],\n",
       "        [-0.1450],\n",
       "        [ 0.0471]], device='cuda:0', requires_grad=True)"
      ]
     },
     "execution_count": 8,
     "metadata": {},
     "output_type": "execute_result"
    }
   ],
   "source": [
    "model1.rf_layer.d_embeddings.weight"
   ]
  },
  {
   "cell_type": "code",
   "execution_count": 9,
   "metadata": {},
   "outputs": [
    {
     "data": {
      "text/plain": [
       "{'intermediate_attention': []}"
      ]
     },
     "execution_count": 9,
     "metadata": {},
     "output_type": "execute_result"
    }
   ],
   "source": [
    "res[-1]"
   ]
  }
 ],
 "metadata": {
  "kernelspec": {
   "display_name": "pytorch",
   "language": "python",
   "name": "python3"
  },
  "language_info": {
   "codemirror_mode": {
    "name": "ipython",
    "version": 3
   },
   "file_extension": ".py",
   "mimetype": "text/x-python",
   "name": "python",
   "nbconvert_exporter": "python",
   "pygments_lexer": "ipython3",
   "version": "3.9.16"
  }
 },
 "nbformat": 4,
 "nbformat_minor": 2
}
