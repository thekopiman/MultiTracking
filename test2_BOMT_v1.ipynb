{
 "cells": [
  {
   "cell_type": "code",
   "execution_count": 1,
   "metadata": {},
   "outputs": [],
   "source": [
    "import os\n",
    "import time\n",
    "import datetime\n",
    "import re\n",
    "import shutil\n",
    "from collections import deque\n",
    "import argparse\n",
    "\n",
    "import numpy as np\n",
    "import torch\n",
    "from torch.optim import AdamW\n",
    "from torch.optim.lr_scheduler import ReduceLROnPlateau\n",
    "import matplotlib.pyplot as plt\n",
    "from matplotlib.gridspec import GridSpec\n",
    "\n",
    "from simulation.simulations.data_generator import DataGenerator\n",
    "from TransformerMOT.util.misc import save_checkpoint, update_logs\n",
    "from TransformerMOT.util.load_config_files import load_yaml_into_dotdict\n",
    "from TransformerMOT.util.plotting import output_truth_plot, compute_avg_certainty, get_constrastive_ax, get_false_ax, \\\n",
    "    get_total_loss_ax, get_state_uncertainties_ax\n",
    "from TransformerMOT.util.logger import Logger\n",
    "from TransformerMOT.models.BOMTv1 import BOMT\n",
    "from simulation.simulations.data_generator import DataGenerator, get_single_training_example\n"
   ]
  },
  {
   "cell_type": "code",
   "execution_count": 2,
   "metadata": {},
   "outputs": [
    {
     "name": "stdout",
     "output_type": "stream",
     "text": [
      "Using seed: 30386090\n"
     ]
    }
   ],
   "source": [
    "task_params = r\"C:\\Users\\chiny\\OneDrive - Nanyang Technological University\\Y3S2 (Internship)\\MultiTracking\\configs\\tasks\\task1.yaml\"\n",
    "model_params = r\"C:\\Users\\chiny\\OneDrive - Nanyang Technological University\\Y3S2 (Internship)\\MultiTracking\\configs\\models\\BOMTv1.yaml\"\n",
    "\n",
    "params = load_yaml_into_dotdict(task_params)\n",
    "params.update(load_yaml_into_dotdict(model_params))\n",
    "\n",
    "if params.general.pytorch_and_numpy_seed is None:\n",
    "    random_data = os.urandom(4)\n",
    "    params.general.pytorch_and_numpy_seed = int.from_bytes(random_data, byteorder=\"big\")\n",
    "print(f'Using seed: {params.general.pytorch_and_numpy_seed}')\n",
    "\n",
    "if params.training.device == 'auto':\n",
    "    params.training.device = 'cuda' if torch.cuda.is_available() else 'cpu'"
   ]
  },
  {
   "cell_type": "code",
   "execution_count": 3,
   "metadata": {},
   "outputs": [
    {
     "data": {
      "text/plain": [
       "torch.Size([2, 230, 4])"
      ]
     },
     "execution_count": 3,
     "metadata": {},
     "output_type": "execute_result"
    }
   ],
   "source": [
    "data_generator = DataGenerator(params=params)\n",
    "training_nested_tensor, labels, unique_measurement_ids = data_generator.get_batch()\n",
    "training_nested_tensor.tensors.shape"
   ]
  },
  {
   "cell_type": "code",
   "execution_count": 4,
   "metadata": {},
   "outputs": [
    {
     "name": "stdout",
     "output_type": "stream",
     "text": [
      "1: torch.Size([2, 2, 64, 230])\n",
      "2: torch.Size([2, 230, 2])\n",
      "3: torch.Size([2, 230, 256])\n",
      "preprocessed_measurements : torch.Size([230, 2, 256])\n",
      "time_encoding : torch.Size([230, 2, 256])\n",
      "4: torch.Size([230, 2, 256])\n"
     ]
    },
    {
     "data": {
      "text/plain": [
       "(<TransformerMOT.util.misc.Prediction at 0x1abbd3cd880>,\n",
       " [<TransformerMOT.util.misc.Prediction at 0x1abbd3cd8e0>,\n",
       "  <TransformerMOT.util.misc.Prediction at 0x1abbd3abd60>,\n",
       "  <TransformerMOT.util.misc.Prediction at 0x1abbd30cac0>,\n",
       "  <TransformerMOT.util.misc.Prediction at 0x1abbd30c940>,\n",
       "  <TransformerMOT.util.misc.Prediction at 0x1ab91d7f1c0>],\n",
       " <TransformerMOT.util.misc.Prediction at 0x1abbd3cd9a0>,\n",
       " {'contrastive_classifications': tensor([[[-1.0000e+08, -5.4650e+00, -5.4487e+00,  ..., -5.4251e+00,\n",
       "            -5.4529e+00, -5.4173e+00],\n",
       "           [-5.4668e+00, -1.0000e+08, -5.4231e+00,  ..., -5.3968e+00,\n",
       "            -5.4449e+00, -5.4190e+00],\n",
       "           [-5.4506e+00, -5.4232e+00, -1.0000e+08,  ..., -5.4424e+00,\n",
       "            -5.4272e+00, -5.4386e+00],\n",
       "           ...,\n",
       "           [-5.4421e+00, -5.4121e+00, -5.4576e+00,  ..., -1.0000e+08,\n",
       "            -5.4692e+00, -5.4108e+00],\n",
       "           [-5.4493e+00, -5.4397e+00, -5.4218e+00,  ..., -5.4486e+00,\n",
       "            -1.0000e+08, -5.4338e+00],\n",
       "           [-5.4311e+00, -5.4311e+00, -5.4506e+00,  ..., -5.4076e+00,\n",
       "            -5.4512e+00, -1.0000e+08]],\n",
       "  \n",
       "          [[-1.0000e+08, -5.3847e+00, -5.3912e+00,  ..., -1.0000e+08,\n",
       "            -1.0000e+08, -1.0000e+08],\n",
       "           [-5.3887e+00, -1.0000e+08, -5.3771e+00,  ..., -1.0000e+08,\n",
       "            -1.0000e+08, -1.0000e+08],\n",
       "           [-5.3921e+00, -5.3740e+00, -1.0000e+08,  ..., -1.0000e+08,\n",
       "            -1.0000e+08, -1.0000e+08],\n",
       "           ...,\n",
       "           [-5.4381e+00, -5.4381e+00, -5.4381e+00,  ..., -5.4381e+00,\n",
       "            -5.4381e+00, -5.4381e+00],\n",
       "           [-5.4381e+00, -5.4381e+00, -5.4381e+00,  ..., -5.4381e+00,\n",
       "            -5.4381e+00, -5.4381e+00],\n",
       "           [-5.4381e+00, -5.4381e+00, -5.4381e+00,  ..., -5.4381e+00,\n",
       "            -5.4381e+00, -5.4381e+00]]], device='cuda:0',\n",
       "         grad_fn=<LogSoftmaxBackward0>)},\n",
       " {'intermediate_attention': []})"
      ]
     },
     "execution_count": 4,
     "metadata": {},
     "output_type": "execute_result"
    }
   ],
   "source": [
    "model1 = BOMT(params).to(\"cuda\")\n",
    "res = model1(training_nested_tensor.to(\"cuda\"))"
   ]
  },
  {
   "cell_type": "code",
   "execution_count": null,
   "metadata": {},
   "outputs": [],
   "source": []
  }
 ],
 "metadata": {
  "kernelspec": {
   "display_name": "pytorch",
   "language": "python",
   "name": "python3"
  },
  "language_info": {
   "codemirror_mode": {
    "name": "ipython",
    "version": 3
   },
   "file_extension": ".py",
   "mimetype": "text/x-python",
   "name": "python",
   "nbconvert_exporter": "python",
   "pygments_lexer": "ipython3",
   "version": "3.9.16"
  }
 },
 "nbformat": 4,
 "nbformat_minor": 2
}
