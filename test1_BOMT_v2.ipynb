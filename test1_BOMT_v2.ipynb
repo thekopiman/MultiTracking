{
 "cells": [
  {
   "cell_type": "code",
   "execution_count": 1,
   "metadata": {},
   "outputs": [],
   "source": [
    "import os\n",
    "import time\n",
    "import datetime\n",
    "import re\n",
    "import shutil\n",
    "from collections import deque\n",
    "import argparse\n",
    "\n",
    "import numpy as np\n",
    "import torch\n",
    "from torch.optim import AdamW\n",
    "from torch.optim.lr_scheduler import ReduceLROnPlateau\n",
    "import matplotlib.pyplot as plt\n",
    "from matplotlib.gridspec import GridSpec\n",
    "\n",
    "from simulation.simulations.data_generator import DataGenerator\n",
    "from TransformerMOT.util.misc import save_checkpoint, update_logs\n",
    "from TransformerMOT.util.load_config_files import load_yaml_into_dotdict\n",
    "from TransformerMOT.util.plotting import output_truth_plot, compute_avg_certainty, get_constrastive_ax, get_false_ax, \\\n",
    "    get_total_loss_ax, get_state_uncertainties_ax\n",
    "from TransformerMOT.util.logger import Logger\n",
    "from TransformerMOT.models.BOMTv2 import BOMT\n",
    "from simulation.simulations.data_generator import DataGenerator, get_single_training_example\n"
   ]
  },
  {
   "cell_type": "code",
   "execution_count": 2,
   "metadata": {},
   "outputs": [
    {
     "name": "stdout",
     "output_type": "stream",
     "text": [
      "Using seed: 3370639121\n"
     ]
    }
   ],
   "source": [
    "task_params = r\"C:\\Users\\chiny\\OneDrive - Nanyang Technological University\\Y3S2 (Internship)\\MultiTracking\\configs\\tasks\\task2.yaml\"\n",
    "model_params = r\"C:\\Users\\chiny\\OneDrive - Nanyang Technological University\\Y3S2 (Internship)\\MultiTracking\\configs\\models\\BOMTv2.yaml\"\n",
    "\n",
    "params = load_yaml_into_dotdict(task_params)\n",
    "params.update(load_yaml_into_dotdict(model_params))\n",
    "\n",
    "if params.general.pytorch_and_numpy_seed is None:\n",
    "    random_data = os.urandom(4)\n",
    "    params.general.pytorch_and_numpy_seed = int.from_bytes(random_data, byteorder=\"big\")\n",
    "print(f'Using seed: {params.general.pytorch_and_numpy_seed}')\n",
    "\n",
    "if params.training.device == 'auto':\n",
    "    params.training.device = 'cuda' if torch.cuda.is_available() else 'cpu'"
   ]
  },
  {
   "cell_type": "code",
   "execution_count": 3,
   "metadata": {},
   "outputs": [],
   "source": [
    "from TransformerMOT.util.misc import NestedTensor\n",
    "\n",
    "data_generator = DataGenerator(params=params)\n",
    "training_nested_tensor, labels, unique_measurement_ids, target_coordinates = data_generator.get_batch()\n",
    "\n"
   ]
  },
  {
   "cell_type": "code",
   "execution_count": 4,
   "metadata": {},
   "outputs": [],
   "source": [
    "model1 = BOMT(params).to(\"cuda\")\n",
    "# checkpoint = torch.load(r\"results\\train2_2phases_1\\checkpoints\\checkpoint_gradient_step_1615.pth\",map_location=\"cuda\")\n",
    "# model1.load_state_dict(checkpoint[\"model_state_dict\"])\n",
    "res = model1(training_nested_tensor.to(\"cuda\"))"
   ]
  },
  {
   "cell_type": "code",
   "execution_count": 5,
   "metadata": {},
   "outputs": [],
   "source": [
    "res = model1.forward(\n",
    "                measurements=training_nested_tensor.to(\"cuda\"),\n",
    "                target_coordinates=target_coordinates.to(\"cuda\"),\n",
    "                unique_id=unique_measurement_ids.to(\"cuda\"),\n",
    "            )"
   ]
  },
  {
   "cell_type": "code",
   "execution_count": 6,
   "metadata": {},
   "outputs": [
    {
     "data": {
      "text/plain": [
       "torch.Size([2, 1504])"
      ]
     },
     "execution_count": 6,
     "metadata": {},
     "output_type": "execute_result"
    }
   ],
   "source": [
    "res[-1].shape"
   ]
  }
 ],
 "metadata": {
  "kernelspec": {
   "display_name": "pytorch",
   "language": "python",
   "name": "python3"
  },
  "language_info": {
   "codemirror_mode": {
    "name": "ipython",
    "version": 3
   },
   "file_extension": ".py",
   "mimetype": "text/x-python",
   "name": "python",
   "nbconvert_exporter": "python",
   "pygments_lexer": "ipython3",
   "version": "3.9.16"
  }
 },
 "nbformat": 4,
 "nbformat_minor": 2
}
